{
  "nbformat": 4,
  "nbformat_minor": 0,
  "metadata": {
    "colab": {
      "provenance": [],
      "authorship_tag": "ABX9TyMWXNBPl4OtPCW5zoCDeHWA",
      "include_colab_link": true
    },
    "kernelspec": {
      "name": "python3",
      "display_name": "Python 3"
    },
    "language_info": {
      "name": "python"
    }
  },
  "cells": [
    {
      "cell_type": "markdown",
      "metadata": {
        "id": "view-in-github",
        "colab_type": "text"
      },
      "source": [
        "<a href=\"https://colab.research.google.com/github/srijanxcode/fourVillagers/blob/main/FarmerData.ipynb\" target=\"_parent\"><img src=\"https://colab.research.google.com/assets/colab-badge.svg\" alt=\"Open In Colab\"/></a>"
      ]
    },
    {
      "cell_type": "code",
      "source": [
        "import pandas as pd\n",
        "from sklearn.model_selection import train_test_split\n",
        "from sklearn.preprocessing import LabelEncoder\n",
        "from sklearn.ensemble import RandomForestClassifier\n",
        "\n",
        "# Load the data\n",
        "file_path = 'vegetable_produce_food_safety_data.csv'\n",
        "df = pd.read_csv(file_path)\n",
        "\n",
        "# Select relevant features\n",
        "features = ['Weather Conditions', 'pH Level', 'Freshness Level', 'Storage Value',\n",
        "            'Pest Control Methods', 'Nutrient Levels']\n",
        "\n",
        "# Target variable\n",
        "target = 'Safety Certification'\n",
        "\n",
        "# Preprocess categorical data\n",
        "label_encoders = {}\n",
        "for col in features + [target]:\n",
        "    le = LabelEncoder()\n",
        "    df[col] = le.fit_transform(df[col])\n",
        "    label_encoders[col] = le\n",
        "\n",
        "# Split data into features (X) and target (y)\n",
        "X = df[features]\n",
        "y = df[target]\n",
        "\n",
        "# Split into training and test sets\n",
        "X_train, X_test, y_train, y_test = train_test_split(X, y, test_size=0.3, random_state=42)\n",
        "\n",
        "# Train a Random Forest Classifier\n",
        "clf = RandomForestClassifier(n_estimators=100, random_state=42)\n",
        "clf.fit(X_train, y_train)\n",
        "accuracy = clf.score(X_test, y_test)\n",
        "print(f'Model Accuracy: {accuracy * 100:.2f}%')\n",
        "\n",
        "# Function to take input from user for prediction\n",
        "def get_user_input():\n",
        "    vegetable_name = input(\"Enter the vegetable name: \")\n",
        "    weather = input(\"Enter the weather conditions (e.g., Sunny, Cool, Moist): \")\n",
        "    pH_level = float(input(\"Enter the pH level (e.g., 6.5): \"))\n",
        "    freshness = input(\"Enter the freshness level (e.g., Very Fresh, Good, Average): \")\n",
        "    storage = input(\"Enter the storage value (e.g., Good condition, Stored at room temperature): \")\n",
        "    pest_control = input(\"Enter the pest control methods (e.g., Pesticides, Organic): \")\n",
        "    nutrient_level = input(\"Enter the nutrient level (e.g., Low, High, Very High): \")\n",
        "\n",
        "    # Prepare the data\n",
        "    user_data = {\n",
        "        'Vegetable Name': vegetable_name,\n",
        "        'Weather Conditions': weather,\n",
        "        'pH Level': pH_level,\n",
        "        'Freshness Level': freshness,\n",
        "        'Storage Value': storage,\n",
        "        'Pest Control Methods': pest_control,\n",
        "        'Nutrient Levels': nutrient_level\n",
        "    }\n",
        "\n",
        "    # Encode the input data using the same label encoders used during training\n",
        "    for feature in features:\n",
        "        if feature in label_encoders:\n",
        "            if feature != 'pH Level':  # Skip encoding for pH Level (it's numeric)\n",
        "                user_data[feature] = label_encoders[feature].transform([user_data[feature]])[0]\n",
        "\n",
        "    return pd.DataFrame([user_data]), vegetable_name\n",
        "\n",
        "# Get input from the user\n",
        "user_input, vegetable_name = get_user_input()\n",
        "\n",
        "# Make a prediction\n",
        "prediction = clf.predict(user_input[features])\n",
        "\n",
        "# Decode the prediction back to the original label\n",
        "predicted_label = label_encoders[target].inverse_transform(prediction)[0]\n",
        "\n",
        "# Output the result\n",
        "print(f'The vegetable \"{vegetable_name}\" is predicted to be: {predicted_label}')\n"
      ],
      "metadata": {
        "colab": {
          "base_uri": "https://localhost:8080/"
        },
        "id": "q4T7IvTBR1-f",
        "outputId": "04cc2289-f06f-45a4-e2e8-bcb6bd09c87e"
      },
      "execution_count": null,
      "outputs": [
        {
          "metadata": {
            "tags": null
          },
          "name": "stdout",
          "output_type": "stream",
          "text": [
            "Model Accuracy: 33.33%\n"
          ]
        }
      ]
    }
  ]
}