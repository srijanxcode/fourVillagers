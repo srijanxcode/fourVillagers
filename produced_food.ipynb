{
  "nbformat": 4,
  "nbformat_minor": 0,
  "metadata": {
    "colab": {
      "provenance": [],
      "authorship_tag": "ABX9TyOkN+pGnbVJvDJ5S44LLR2E",
      "include_colab_link": true
    },
    "kernelspec": {
      "name": "python3",
      "display_name": "Python 3"
    },
    "language_info": {
      "name": "python"
    }
  },
  "cells": [
    {
      "cell_type": "markdown",
      "metadata": {
        "id": "view-in-github",
        "colab_type": "text"
      },
      "source": [
        "<a href=\"https://colab.research.google.com/github/srijanxcode/fourVillagers/blob/main/produced_food.ipynb\" target=\"_parent\"><img src=\"https://colab.research.google.com/assets/colab-badge.svg\" alt=\"Open In Colab\"/></a>"
      ]
    },
    {
      "cell_type": "code",
      "source": [
        "# Import necessary libraries\n",
        "import pandas as pd\n",
        "from sklearn.model_selection import train_test_split\n",
        "from sklearn.preprocessing import LabelEncoder\n",
        "from sklearn.ensemble import RandomForestClassifier\n",
        "from sklearn.metrics import accuracy_score\n",
        "import numpy as np\n",
        "\n",
        "# Load the dataset\n",
        "url = 'packaged_food_items.csv'  # Update with your file path or URL if using Google Colab\n",
        "data = pd.read_csv(url)\n",
        "\n",
        "# Encode categorical variables\n",
        "label_encoders = {}\n",
        "for column in ['Main Ingredient', 'Packaging Date', 'Nutritional Information', 'Packaging Type']:\n",
        "    le = LabelEncoder()\n",
        "    data[column] = le.fit_transform(data[column])\n",
        "    label_encoders[column] = le\n",
        "\n",
        "# Prepare the features (X) and target (y)\n",
        "X = data[['Main Ingredient', 'Shelf Life (days)', 'Nutritional Information', 'Packaging Type']]\n",
        "y = data['Compliance Status']\n",
        "\n",
        "# Encode target variable\n",
        "compliance_encoder = LabelEncoder()\n",
        "y = compliance_encoder.fit_transform(y)\n",
        "\n",
        "# Split the data into training and testing sets\n",
        "X_train, X_test, y_train, y_test = train_test_split(X, y, test_size=0.2, random_state=42)\n",
        "\n",
        "# Train a RandomForest Classifier\n",
        "model = RandomForestClassifier(n_estimators=100, random_state=42)\n",
        "model.fit(X_train, y_train)\n",
        "\n",
        "# Evaluate the model\n",
        "y_pred = model.predict(X_test)\n",
        "accuracy = accuracy_score(y_test, y_pred)\n",
        "print(f'Model Accuracy: {accuracy * 100:.2f}%')\n",
        "\n",
        "# Display valid options for user input\n",
        "valid_main_ingredients = list(label_encoders['Main Ingredient'].classes_)\n",
        "valid_nutritional_info = list(label_encoders['Nutritional Information'].classes_)\n",
        "valid_packaging_types = list(label_encoders['Packaging Type'].classes_)\n",
        "\n",
        "print(\"\\nValid Main Ingredients:\", \", \".join(valid_main_ingredients))\n",
        "print(\"Valid Nutritional Information:\", \", \".join(valid_nutritional_info))\n",
        "print(\"Valid Packaging Types:\", \", \".join(valid_packaging_types))\n",
        "\n",
        "# Function to predict compliance based on user input\n",
        "def predict_compliance():\n",
        "    while True:\n",
        "        # Get user input for each feature with examples\n",
        "        main_ingredient = input(f\"Enter the Main Ingredient from the list above: \")\n",
        "        shelf_life = int(input(\"Enter the Shelf Life (in days) (e.g., 15, 365, 180): \"))\n",
        "        nutritional_info = input(f\"Enter the Nutritional Information from the list above: \")\n",
        "        packaging_type = input(f\"Enter the Packaging Type from the list above: \")\n",
        "\n",
        "        # Encode user input using the same LabelEncoders and check validity\n",
        "        try:\n",
        "            main_ingredient_encoded = label_encoders['Main Ingredient'].transform([main_ingredient])[0]\n",
        "        except ValueError:\n",
        "            print(\"Invalid Main Ingredient. Please enter a valid option from the list.\")\n",
        "            continue\n",
        "\n",
        "        try:\n",
        "            nutritional_info_encoded = label_encoders['Nutritional Information'].transform([nutritional_info])[0]\n",
        "        except ValueError:\n",
        "            print(\"Invalid Nutritional Information. Please enter a valid option from the list.\")\n",
        "            continue\n",
        "\n",
        "        try:\n",
        "            packaging_type_encoded = label_encoders['Packaging Type'].transform([packaging_type])[0]\n",
        "        except ValueError:\n",
        "            print(\"Invalid Packaging Type. Please enter a valid option from the list.\")\n",
        "            continue\n",
        "\n",
        "        # Create a feature vector for prediction\n",
        "        features = np.array([[main_ingredient_encoded, shelf_life, nutritional_info_encoded, packaging_type_encoded]])\n",
        "\n",
        "        # Predict and decode the result\n",
        "        prediction = model.predict(features)\n",
        "        compliance_status = compliance_encoder.inverse_transform(prediction)\n",
        "        print(f\"The food item is predicted to be: {compliance_status[0]}\")\n",
        "        break\n",
        "\n",
        "# Call the prediction function\n",
        "predict_compliance()\n"
      ],
      "metadata": {
        "colab": {
          "base_uri": "https://localhost:8080/"
        },
        "id": "ER8CzitqZmYu",
        "outputId": "2288bb96-c0f6-4800-d30a-2d41d49c1217"
      },
      "execution_count": 5,
      "outputs": [
        {
          "output_type": "stream",
          "name": "stdout",
          "text": [
            "Model Accuracy: 35.00%\n",
            "\n",
            "Valid Main Ingredients: Atta, Banana, Basmati Rice, Black Tea, CHEESE, Cake, Cashew Nuts, Chicken, Chocolate, Cocoa, Coconut Oil, Coconut milk, Corn, Crab, Dates, Dehydrated Chicken, EXTENDED DURUM WHEAT FLOUR, Egg, Fish fillet, Flour, Green tea, Instant soup mix, JAMUNE PANAKAM, Maize, Mandarin orange, Mango, Milk, Mixed Fruit, Noodles, Orange, Orange Juice, Orange juice, Pizza, Pork, Potato, Pure Cocoa, Refined Wheat Flour, Refined wheat flour, Rice, Rice Flour, Rosemary, Skimmed milk powder, Soybean meal, Sprouts, Sugar, Sugars, Sweetened Condensed Milk, Tomato, Tomato, Corn Syrup, Water, High Fructose Corn Syrup, Distilled Vinegar, Salt, Contains less than 2% of: Paprika, Xanthan Gum, Spice, Oleoresin Paprika, Garlic Powder, Onion Powder, Natural, Unbleached Enriched Flour (Wheat Flour, Niacin, Reduced Iron, Thiamine Mononitrate, Riboflavin, Folic Acid), Vegetables, Water, Wheat, Wheat flour, Whole Grain Corn, Whole wheat flour, chocolate cookies, corn, corn flour, flour, jalapeño peppers, potato, refined wheat flour, soybean oil, wheat\n",
            "Valid Nutritional Information: **Per 100 g**\\, 100 g of product contains 470.0 Kcal energy, 2.0 g carbohydrates, 1.0 g protein, 32.0 g fat, 2.0 g ash, 1.0 g carbohydrates, 0., 11g, 1410/100g, 430kcal, 35gm Fat, 4gm Sodium, 53gm Carbohydrate, 1gm Fiber, 2gm Protein, 0.0mg Cholesterol, 20gm Sugar, Calories (kcal) : 70.626, Carbohydrate (g) : 6.4879, Protein (g) : 4.257, Sodium (mg) : 81.273, Fat (g, Calories : 120.0\\nProtein : 22.0\\nTotal Lipid (fat) : 1.0\\nTotal Carbohydrate : 0.0\\nCholesterol : 45.0\\nSodium, Calories: 147 kcal              Protein: 4.1 g             Total Fat: 4 g              Sodium: 710 mg              Total Carbs: 23 g, Calories: 520\\nFat: 37.5 g\\nSaturated Fat: 12.5 g\\nCholesterol: 6.0 mg\\nSodium: 1520 mg\\nCarbohydrates:, Energy: 398.89 kcal, Calories from Fat: 67.7 kcal, Fat: 7.30 g, Protein: 10.80 g, Carbohydrate: 66.90 g, Cholest, NUTRITIONAL INFORMATION PER 100 g SERVING, Nutrition Facts, Nutrition Information, Nutrition Information (per 100g), Nutrition Information Per 40 g, Nutritional Information per 100 g, Nutritional Information per 100g, Nutritional Information per 100gms, Nutritional Value per 100g, Nutritional information per 100 g, Nutritional information per 100g, Per 1 tbsp: 50 cal, 0g fat (0g sat), 10mg sodium, 12g carbs, 0g fiber, 10g sugar, 0g protein, Per 100 g, Per 100g, Percent Daily Values are based on a 2000 calorie diet\\n: 260 calories; fat 10g (15% calories from fat); saturated fat 3g (15% calories from saturated fat); cholesterol 9mg (, Quantity per 100 g (Quantity per 100 g of the product): 110 g, Energy (kJ) (Energy in 100 g of the product): 1812 kJ, Protein (g) (Protein in 1, Sugar: 0.003 g, Protein: 3.6 g, Carbohydrate: 4.8 g, Total Fats: 3.4 g, Calories: 128 kcal, Cholesterol: 19.3 mg, Total Fat (g) : 0.1,Sodium (mg) : 150,Total carbohydrate (g) : 4.2,Protein (g) : 0.6,Fiber (g) : 0.5,Calcium (, ['Energy', '175.0', 'Energy - kcal', '734.0', 'Protein', '6.1', 'Fat', '38.9', 'of which saturates', '24.5', 'Carbohydrate',, ['Fat (g)', '3.7', 'Saturated Fat (g)', '0.8', 'Total Carbohydrates (g)', '39.5', 'Sugars (g)', '0.5', 'Protein (g)', '2.9', ', ['Fat, Total (g)', '0.0', 'Energy (Kcal)', '402.0', 'Energy (KJ)', '1682.0', 'Carbohydrate, total (g)', '71.1', 'Carbohy, ['Protein (g) : 35', 'Total fat (g) : 1', 'Carbohydrate (g) : 77', 'Calcium (mg) : 1220', 'Sodium (mg) : 486', ', ['Protein', 'Fat', 'Carbohydrates', 'Cholesterol'], ['Serving Size', '21 g', '', '', '', '', '', 'Calories', '140', 'Calories from Fat', '70', 'Total Fat', '7.0 g', 'Saturated Fat', '2.0 g', 'Trans Fat', '0.0, ['Sugar', 15.65, 'Fat', 19.0, 'Cholesterol', 1.3, 'Calories', 445], ['Water, 92.5 g', 'Energy, 200 kcal', 'Fat, 3.2 g', 'of which saturates, 1.7 g', 'Carbohydrate, 40.5 g', 'of which sugars,, ['[{“name”: “Energy”, “value”: “91.0 kcal”, “unit”: “kcal”}, {“name”: “Fat”, “value”: “0.0 g”, “unit”: “g”}, {“name”: “, [{, [{'#ATTACHED FILES#', '[]'}, {'Age Group (who can consume)', 'Adults'}, {'Alcohol', 'No'}, {'Carbohydrate (g)', 71.2}, {'Carbonated', 'No'}, {'Cholesterol (, [{'Amino Acid (g)': '7.7', 'Carbohydrates (g)': '43.5', 'Cholesterol (mg)': '0', 'Energy (kcal)': '347', 'Fat (g)':, [{'Amount (g)': 26.1, 'Nutrient Name': 'Energy'}, {'Amount (g)': 0, 'Nutrient Name': 'Protein'}, {'Amount (g)': 0, 'Nutrient Name': 'Fat'}, {'Amount (g, [{'Attribute name': 'Energy kJ', 'Amount (g)': 168},, [{'Attribute': 'Energy (kcal)', 'Value': '460'}, {'Attribute': 'Energy (kJ)', 'Value': '1932'}, {'Attribute': 'Protein (g)', 'Value': '9.6'}, {'Attribute': 'Carbohydr, [{'Carbohydrates': 74, 'Energy': 318, 'Fat': 3, 'Fibre': 0, 'Protein': 8, 'Sodium': 1.3}, {'Carbohydrates': 74, [{'FoodCode': '10702', 'ServingSize': '100.0 g', 'ServingWeight_g': '100.0', 'Nutrients': [{'Attribute': 'Energy (kcal)', 'Value': '146, [{'Key': 'Carbohydrates', 'Value': 1.5}, {'Key': 'Energy - kJ', 'Value': 299}, {'Key': 'Energy - kcal', 'Value': 72.06}, {'Key': 'Fat',, [{'Key': 'Energy (kJ)', 'Value': '2231'}, {'Key': 'Energy (kcal)', 'Value': '532'}, {'Key': 'Fat (g)', 'Value': '48.4'}, {'Key': 'Saturates (g, [{'Key': 'Energy', 'Value': '218.0'}, {'Key': 'Protein', 'Value': '2.4'}, {'Key': 'Total Lipid (fat)', 'Value': '9.7'}, {'Key': 'Carbohydrate, by, [{'Key': 'Energy(Kcal)', 'Value': '356'}, {'Key': 'Carbohydrate(g)', 'Value': '67.1'}, {'Key': 'Total Fat(g)', 'Value': '0.8'}, {'Key': 'Choles, [{'Key': 'Fat', 'Value': '1.1 g'}, {'Key': 'Saturated', 'Value': '0.4 g'}, {'Key': 'Trans', 'Value': '0.0 g'}, {'Key': 'Cholesterol', 'Value': '0.0, [{'Name of nutrient': 'Energy', 'Amount (kcal)': 271, 'Amount (kJ)': 1131}, {'Name of nutrient': 'Protein', 'Amount (g)': 15.0}, {'Name of nutrient':, [{'Name': 'Energy', 'Amount': '0.0'}, {'Name': 'Fat', 'Amount': '0.0'}, {'Name': 'Saturates', 'Amount': '0.0'}, {'Name': 'Sugars', 'Amount': '0.0'}, {'Name, [{'Name': 'Energy', 'Amount': '1129.0'}, {'Name': 'Fat', 'Amount': '66.0'}, {'Name': 'of which saturates', 'Amount': '13.2'}, {'Name': 'Carbohydrate',, [{'Name': 'Energy', 'Value': '151.8 kcal'}, {'Name': 'Carbohydrates', 'Value': '18.8 g'}, {'Name': 'Protein', 'Value': '2.2 g'}, {'Name': 'Fat', ', [{'Name': 'Fat', 'Amount': '16.0', 'Unit': 'g'}, {'Name': 'Saturated fat', 'Amount': '3.7', 'Unit': 'g'}, {'Name': 'Trans Fat', 'Amount': '0.1', 'Unit': ', [{'Name': 'Fat', 'Value': '0.0 g'}, {'Name': 'Carbohydrate', 'Value': '14.9 g'}, {'Name': 'Protein', 'Value': '0.0 g'}, {'Name': 'Energy', 'Value': ', [{'Name': 'Protein', 'Value': 5.0}, {'Name': 'Carbohydrate', 'Value': 0.0}, {'Name': 'Fat', 'Value': 5.0}, {'Name': 'Fibre', 'Value': 0.0, [{'Name': 'Serving Size (g)', 'Amount': '30.0'}, {'Name': 'Total Carbohydrate (g)', 'Amount': '28.0'}, {'Name': 'Sugars (g)', 'Amount': '15.0'}, {'Name, [{'attribute': 'Energy', 'value': '20.0'}, {'attribute': 'Fat', 'value': '0.0'}, {'attribute': 'Saturates', 'value': '0.0'}, {'attribute': 'Sugars', 'value': '0.0'}, {', [{'energy': '193.0',, [{'key': 'Energy (kJ)', 'value': '1126'}, {'key': 'Energy (kcal)', 'value': '268.4'}, {'key': 'Total Fat (g)', 'value': '1.6'}, {'key': 'Cholester, [{'key': 'Energy (kcal)', 'value': '214'}, {'key': 'Carbohydrate (g)', 'value': '38.5'}, {'key': 'Total Fat (g)', 'value': '8'}, {'key': 'Cholesterol, [{'key': 'Energy (kcal)', 'value': '222.0'}, {'key': 'Protein (g)', 'value': '17.6'}, {'key': 'Carbohydrate (g)', 'value': '31.6'}, {'key':, [{'key': 'Energy Kcal', 'value': '160.0'}, {'key': 'Protein g', 'value': '1.5'}, {'key': 'Total Lipid Fats g', 'value': '8.0'}, {'key': 'Carbohydr, [{'key': 'Energy kcal', 'value': 205.0}, {'key': 'Energy kJ', 'value': 854.0}, {'key': 'Fat (g)', 'value': 0.0}, {'key': 'Saturated fat (, [{'key': 'Energy', 'value': '332.0'}, {'key': 'Fat', 'value': '1.8'}, {'key': 'Saturated Fat', 'value': '0.4'}, {'key': 'Carbohydrate', 'value': ', [{'key': 'Energy', 'value': '414 kcal'}, {'key': 'Carbohydrate', 'value': '90.40 g'}, {'key': 'Protein', 'value': '5.90 g'}, {'key': 'Total Fat',, [{'key': 'Fat ', 'value': '3.4'}, {'key': 'Sodium ', 'value': '0.0'}, {'key': 'Total Carbohydrate ', 'value': '37.0'}, {'key': 'Sugars ', 'value': ', [{'key': 'Fat', 'value': '2.0g'}, {'key': 'Fibre', 'value': '1.3g'}, {'key': 'Sodium', 'value': '0.2g'}, {'key': 'Total Carbohydrate', 'value, [{'key': 'Fat', 'value': '8.4'}, {'key': 'Carbohydrates', 'value': '12.1'}, {\\, [{'key': 'Servings per container', 'value': '1'}, {'key': 'Serving size', 'value': '237 ml (8 fl oz)'}, {'key': 'Calories', 'value': '130'}, {'key': 'Calories from fat', 'value, [{'name': 'Calories', 'quantity': 3.0}, {'name': 'Total Carbohydrate', 'quantity': 0.5}, {'name': 'Protein', 'quantity': 0.5}, {'name': 'Total Fat', 'quantity, [{'name': 'Energy (kJ)', 'quantity': '591.0'}, {'name': 'Energy (kcal)', 'quantity': '141.0'}, {'name': 'Fat (g)', 'quantity': '5.4'}, {'name': ', [{'name': 'Energy', 'amount': 1080.0, 'unit': 'kJ'}, {'name': 'Energy', 'amount': 257.0, 'unit': 'kcal'}, {'name': 'Fat', 'amount': 14.0, [{'quantity': 1, 'unit': 'kcal', 'description': 'Energy'}, {'quantity': 0, 'unit': 'g', 'description': 'Fat'}, {'quantity': 0, 'unit': 'g', 'description': 'Saturates'}, {'quant, [{'value': '25', 'unit': 'g', 'attr': 'Fat'},, {, {\"carbohydrates\":\"79.1\",\"calories\":\"369\",\"protein\":\"8.9\",\"sugar\":\"0.0\",\"fat\":\"0.4\"}, {'Added Sugar': 5.2, 'Carbohydrate': 14.1, 'Cholesterol': 57.7, 'Dietary Fiber': 1.6, 'Monounsaturated Fat': 12.3, 'Protein, {'Amino Acids': [10.0, 0.0, 0.0, 0.0, 0.0, 0.0, 0.0, 0.0, 0.0, 0.0, 0.0,, {'Amino acid (g)': '14.6', 'Carbohydrate (g)': '82.2', 'Cholesterol (mg)': '0', 'Energy (kcal)': '408', 'Fat (g)': ', {'Calories' : 1, 'Total Lipid (fat)' : 0, 'Cholesterol' : 0, 'Sodium' : 0, 'Carbohydrate (by difference)' : 0, 'Protein' : 0}, {'Calories': 133.0, 'Total Carbohydrate': 20.7, 'Protein': 1.9, 'Total Lipid (fat)': 6.0, 'Cholesterol': 1.0, 'Sodium, {'Calories': 3.0, 'Total Lipid (fat)': 0.0, 'Cholesterol': 0.0, 'Sodium': 0.0, 'Total Carbohydrate': 0.7, 'Protein': 0, {'Fat': '0.0 g', 'Calcium': '247 mg', 'Carbonate': '0.0 g', 'Protein': '6.0 g', 'Energy': '940 kcal', 'Fiber': '2.5 g', 'Ch, {'Fat': '5.4', 'Carbohydrates': '5.8', 'Protein': '0.2', 'Energy': '51.0'}, {'Protein': 1.5419999999999999, 'Total Lipid (fat)': 0.16999999999999999, 'Cholesterol': 0.1, {'Serving Qty': 100.0, 'Serving Size': '100 g', 'Energy': 249.0, 'Protein': 4.2, 'Total Lipid (fat)': 1.6, 'Carbohydr, {'Total fat' : '0.0 g', 'Saturated Fat' : '0.0 g', 'Trans Fat' : '0.0 g', 'Cholesterol' : '0.0 mg', 'Sodium' : '0.0 mg', 'Total Carb, {'Total lipid (fat)': 11.5, 'Protein': 12.5, 'Water': 62.4, 'Carbohydrate by difference': 13.6}, {\\n  \"total_carbohydrates\": 2.4,\\n  \"carbohydrates_by_dietary_fiber\": 2.4,\\n  \"total_sugars\": 2.4,\\n  \"protein\": 0, {u'Serving Size': u'206 g', u'Servings Per Container': u'1', u'Calories': u'316.0', u'Fat Calories': u'8.0', u'Total Fat': u'8.0 g', u'\n",
            "Valid Packaging Types: Aluminium, Aluminium Foil, Aluminium foil, BAG, Bag, Bag in Box, Bottle, Box, Can, Carton, Cup, Flexible Packaging, Flexible Pouch, Flexible packaging, Foil, Glass, Glass Bottle, Laminated, Modified Atmosphere Packaging, PP, Packaging material used: Plastic, Paper, Paperboard, Plastic, Plastic Bottle, Plastic Container, Plastic Trays, Plastic bottle, Poly bag, Polyethylene bag, Polypropylene, Pouch, Pouch Pack, Stand Up Pouch, Stand up pouch, TRAY, Tin Can, Transparent, Tray, Vacuum Pack, Vacuum Packaging, Vacuum Sealed\n",
            "Enter the Main Ingredient from the list above: Atta\n",
            "Enter the Shelf Life (in days) (e.g., 15, 365, 180): 15\n",
            "Enter the Nutritional Information from the list above: **Per 100 g**\\\n",
            "Enter the Packaging Type from the list above: Aluminium\n",
            "The food item is predicted to be: Complies with all food safety regulations\n"
          ]
        },
        {
          "output_type": "stream",
          "name": "stderr",
          "text": [
            "/usr/local/lib/python3.10/dist-packages/sklearn/base.py:493: UserWarning: X does not have valid feature names, but RandomForestClassifier was fitted with feature names\n",
            "  warnings.warn(\n"
          ]
        }
      ]
    }
  ]
}